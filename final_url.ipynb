{
 "cells": [
  {
   "cell_type": "code",
   "execution_count": 64,
   "metadata": {},
   "outputs": [
    {
     "name": "stdout",
     "output_type": "stream",
     "text": [
      "['3/14' '3/15' '3/16' '3/17' '3/18' '3/19' '3/20' '3/21' '3/22' '3/23'\n",
      " '3/24' '3/25' '3/26' '3/27' '3/28' '3/29' '3/30' '3/31' '4/1' '4/2' '4/3'\n",
      " '4/4' '4/6' '4/7' '4/8' '4/9' '4/10' '4/11' '4/12' '4/13' '4/14' '4/15'\n",
      " '4/16' '4/17' '4/18' '4/19' '4/20' '4/21' '4/22' '4/23' '4/24' '4/25'\n",
      " '4/26' '4/27' '4/28' '4/29' '4/30' '5/1' '5/2' '5/3' '5/4' '5/5' '5/6'\n",
      " '5/7' '5/8' '5/9' '5/10' '5/11' '5/12' '5/13' '5/14' '5/15' '5/16' '5/18'\n",
      " '5/19' '5/20' '5/21' '5/22' '5/23' '5/24' '5/25' '5/26' '5/27' '5/29'\n",
      " '5/30' '5/31' '6/1' '6/2' '6/3' '6/4' '6/5' '6/6' '6/7' '6/8' '6/9'\n",
      " '6/10' '6/11' '6/12' '6/13' '6/14' '6/15' '6/16' '6/17' '6/18' '6/19'\n",
      " '6/20' '6/21' '6/22' '6/23' '6/25' '6/26' '6/27' '6/28' '6/29' '6/30'\n",
      " '7/1' '7/2' '7/3' '7/4' '7/5' '7/6' '7/7' '7/8' '7/9' '7/10' '7/11'\n",
      " '7/12' '7/13' '7/14' '7/15' '7/16' '7/17' '7/18' '7/19' '7/20' '7/21'\n",
      " '7/22' '7/23' '7/24' '7/25' '7/26' '7/27' '7/28' '7/29' '7/31' '8/1'\n",
      " '8/2' '8/3' '8/4' '8/5' '8/6']\n"
     ]
    }
   ],
   "source": [
    "import requests\n",
    "import pandas as pd \n",
    "import numpy as np\n",
    "from bs4 import BeautifulSoup\n",
    "\n",
    "\n",
    "############ MONTHS ##############\n",
    "page = requests.get(\"https://coronavirus.dc.gov/page/coronavirus-data\")\n",
    "soup = BeautifulSoup(page.content, 'html.parser')\n",
    "\n",
    "ct = 0 \n",
    "ray = np.array([])\n",
    "\n",
    "\n",
    "\n",
    "for path in soup.find_all('p'):\n",
    "    \n",
    "    phrase = path.get_text() ## stores phrase and checks if keyword is in phrase\n",
    "    \n",
    "#     if (phrase.find('April') != -1) or (phrase.find('March') != -1): # raw months outpout\n",
    "#         print (phrase)\n",
    "\n",
    "    year = phrase.find('2020') +4 #clean months output\n",
    "    if (phrase.find('April') != -1):\n",
    "        pos = phrase.find('April')\n",
    "#         print (phrase[pos : year])\n",
    "\n",
    "        date = phrase[pos : year]\n",
    "        if (date != ''):\n",
    "            ray = np.append(ray, date)\n",
    "        ct += 1\n",
    "\n",
    "\n",
    "    elif (phrase.find('August') != -1):\n",
    "        pos = phrase.find('August')\n",
    "        date = phrase[pos : year]\n",
    "        if (date != ''):\n",
    "            ray = np.append(ray, date)\n",
    "        ct += 1 \n",
    "        \n",
    "    elif (phrase.find('June') != -1):\n",
    "        pos = phrase.find('June')\n",
    "        date = phrase[pos : year]\n",
    "        if (date != ''):\n",
    "            ray = np.append(ray, date)\n",
    "        ct += 1 \n",
    "        \n",
    "    elif (phrase.find('July') != -1):\n",
    "        pos = phrase.find('July')\n",
    "        date = phrase[pos : year]\n",
    "        if (date != ''):\n",
    "            ray = np.append(ray, date)\n",
    "        ct += 1 \n",
    "        \n",
    "    elif (phrase.find('May') != -1):\n",
    "        pos = phrase.find('May')\n",
    "        date = phrase[pos : year]\n",
    "        if (date != ''):\n",
    "            ray = np.append(ray, date)\n",
    "        ct += 1        \n",
    "        \n",
    "    elif (phrase.find('March') != -1):\n",
    "        pos = phrase.find('March')\n",
    "        date = phrase[pos : year]\n",
    "        if (year != 3):\n",
    "            if (date != ''):\n",
    "                date = phrase[pos : year]\n",
    "                ray = np.append(ray, date)\n",
    "#             print (phrase[pos : year])\n",
    "            ct += 1\n",
    "        else:\n",
    "            date = phrase[pos:len(phrase)-1]+\", 2020\"\n",
    "            if (date != ''):\n",
    "                ray = np.append(ray, date)\n",
    "            if (phrase.find('March 11')):\n",
    "                break\n",
    "\n",
    "\n",
    "\n",
    "\n",
    "def overall (phrase,key): \n",
    "   \n",
    "    colon = phrase.find(':')\n",
    "    if (phrase.find(key) != -1) or (phrase.find(key.capitalize()) != -1):\n",
    "       \n",
    "        if (colon != -1):\n",
    "#             print (phrase[colon+2:len(phrase)])\n",
    "            return (phrase[colon+2:len(phrase)])\n",
    "\n",
    "        else: \n",
    "#             print (phrase[:len(phrase)])\n",
    "            return (phrase)\n",
    "            \n",
    "    \n",
    "def positive (phrase,key, ct2):\n",
    "    colon = phrase.find(':')\n",
    "    if (phrase.find(key) != -1) or (phrase.find(key.capitalize()) != -1):\n",
    "        \n",
    "        if (phrase.find('PHL') != -1):\n",
    "            ct2 +=1\n",
    "#             print (ct2, phrase[colon+2:len(phrase)], end = ' ')\n",
    "            x = phrase[colon+2:len(phrase)]\n",
    "            return x,ct2\n",
    "        \n",
    "        elif (phrase.find(';') != -1):\n",
    "#             print ('')\n",
    "            x = ''\n",
    "            return x, ct2\n",
    "        \n",
    "        else:        \n",
    "            if (phrase.find('commercial lab') != -1):\n",
    "                ct2 = 2\n",
    "#             print (phrase[colon+2:len(phrase)])\n",
    "            x = phrase[colon+2:len(phrase)]\n",
    "            return x, ct2\n",
    "\n",
    "\n",
    "\n",
    "\n",
    "\n",
    "\n",
    "ct2 = 0 \n",
    "\n",
    "nums = np.array([])\n",
    "deaths = np.array([])\n",
    "recover = np.array([])\n",
    "pos = np.array([])\n",
    "\n",
    "\n",
    "for stat in soup.find_all('li'):\n",
    "    \n",
    "    total = None\n",
    "    phrase = stat.get_text()\n",
    "    phrase = phrase.replace(',', '')\n",
    "    phrase = phrase.replace('*','')\n",
    "    \n",
    "    key = \"overall\"\n",
    "    total = overall(phrase,key)\n",
    "    if (total != None):\n",
    "        total = total.replace(' ','')\n",
    "        total = int(total)\n",
    "        nums = np.append(nums, total)\n",
    "    \n",
    "    \n",
    "    key = 'lost' \n",
    "    total = overall(phrase,key)  \n",
    "    if (total != None):\n",
    "        deaths = np.append(deaths, total)\n",
    "    key = 'deaths' \n",
    "    total = overall(phrase,key)  \n",
    "    if (total != None):\n",
    "        deaths = np.append(deaths, total)\n",
    "        \n",
    "        \n",
    "    key = 'recovered'\n",
    "    total = overall(phrase,key)  \n",
    "    if (total != None):\n",
    "        recover = np.append(recover, total)\n",
    "        \n",
    "        \n",
    "    key = \"positives\"\n",
    "    total = positive(phrase,key,ct2) \n",
    "\n",
    "    if (total != None):\n",
    "        if (total[1] == 2):\n",
    "            x = len(pos) - 1\n",
    "            pos[x] = int(pos[x])\n",
    "#             y = int(total[0])\n",
    "            pos[x]= pos[x] + ' ' + total[0]\n",
    "#             print('hi')\n",
    "        elif (total[0] != ''):\n",
    "            pos = np.append(pos, total[0])\n",
    "        \n",
    "\n",
    "allz = np.array([])\n",
    "for x in pos:\n",
    "    finder = x.find(' ')\n",
    "    if(finder != -1):\n",
    "        first = int(x[0:finder])\n",
    "        second = int (x[finder+1:len(x)])     \n",
    "        total = first + second \n",
    "#         print (total)\n",
    "        allz = np.append(allz, total)\n",
    "\n",
    "    else:\n",
    "        total = int(x)\n",
    "        allz = np.append(allz, total)\n",
    "#         print(x)\n",
    "\n",
    "if (len(allz) != len(nums)):\n",
    "    allz = np.delete(allz,len(allz)-1)\n",
    "    ray = np.delete(ray,len(ray)-1)\n",
    "\n",
    "ct = 0\n",
    "# for x in ray:\n",
    "#     comma = x.find(',')\n",
    "#     if (x.find('March') != -1):\n",
    "#         x = '3/'+ x[6:comma]\n",
    "#         ray[ct] = x\n",
    "#     else:\n",
    "#         x = '4/'+ x[6:comma]\n",
    "#         ray[ct] = x\n",
    "#     ct +=1\n",
    "\n",
    "# for x in ray:\n",
    "#     comma = x.find(',')\n",
    "#     if (x.find('March') != -1):\n",
    "#         x = '3/'+ x[6:comma]\n",
    "#         ray[ct] = x\n",
    "#     elif (x.find('April') != -1):\n",
    "#         x = '4/'+ x[6:comma]\n",
    "#         ray[ct] = x\n",
    "#     else:\n",
    "# #         print(x)\n",
    "#         x = '5/'+ x[4:comma]\n",
    "#         ray[ct] = x\n",
    "#     ct +=1\n",
    "months = ['March', 'April', 'May', 'June', 'July', 'August','September','October','November','December']\n",
    "for x in ray:\n",
    "    comma = x.find(',')\n",
    "    if (x.find('March') != -1):\n",
    "        x = '3/'+ x[6:comma]\n",
    "        ray[ct] = x\n",
    "    elif (x.find('April') != -1):\n",
    "        x = '4/'+ x[6:comma]\n",
    "        ray[ct] = x\n",
    "    elif (x.find('May') != -1):\n",
    "#         print(x)\n",
    "        x = '5/'+ x[4:comma]\n",
    "        ray[ct] = x\n",
    "    elif (x.find('June') != -1):\n",
    "#         print(x)\n",
    "        x = '6/'+ x[5:comma]\n",
    "        ray[ct] = x\n",
    "    elif (x.find('July') != -1):\n",
    "#         print(x)\n",
    "        x = '7/'+ x[5:comma]\n",
    "        ray[ct] = x\n",
    "    elif (x.find('August') != -1):\n",
    "#         print(x)\n",
    "        x = '8/'+ x[7:comma]\n",
    "        ray[ct] = x\n",
    "    else:\n",
    "#         print(x)\n",
    "        \n",
    "        x = '9/'+ x[9:comma]\n",
    "        ray[ct] = x\n",
    "    ct +=1\n",
    "    \n",
    "\n",
    "ray = ray[::-1]#INVERTS ALL THE COLUMNS\n",
    "allz = allz[::-1]\n",
    "nums = nums[::-1]\n",
    "\n",
    "print(ray)\n"
   ]
  },
  {
   "cell_type": "code",
   "execution_count": 65,
   "metadata": {},
   "outputs": [],
   "source": [
    "redo = np.array([])  ### FILLS DATAFRAME\n",
    "rate = np.array([])\n",
    "\n",
    "ct = 0\n",
    "for x in nums:\n",
    "    first = x\n",
    "    if(ct == 8):\n",
    "        first = int(first)\n",
    "        first = first + 1000\n",
    "    redo = np.append(redo,first)\n",
    "    ct +=1 \n",
    "\n",
    "    \n",
    "ct = 0\n",
    "for x in redo:\n",
    "    x = int(x)\n",
    "    net = (allz[ct]/x)*100\n",
    "    rate = np.append(rate, net)\n",
    "    ct +=1\n",
    "    "
   ]
  },
  {
   "cell_type": "code",
   "execution_count": 66,
   "metadata": {
    "scrolled": true
   },
   "outputs": [],
   "source": [
    "import warnings\n",
    "warnings.filterwarnings(\"ignore\")\n",
    "\n",
    "\n",
    "df = pd.DataFrame({\n",
    "    \"Dates\":ray,\n",
    "    \"Positives\":allz,\n",
    "    \"Overall\":redo    \n",
    "})\n",
    "\n",
    "\n",
    "df.Positives[53]= 5899\n",
    "df.Overall[53]= 27115\n",
    "\n",
    "df['\\u0394 +'] = df['Positives'].diff(1) # DELTA POSITIVES!!!!!!!!\n",
    "df['\\u0394 total'] = df['Overall'].diff(1)\n",
    "df['Rate'] = round((df['\\u0394 +'] / df['\\u0394 total'])* 100,2)\n",
    "df = df[7:]\n"
   ]
  },
  {
   "cell_type": "code",
   "execution_count": 67,
   "metadata": {},
   "outputs": [
    {
     "data": {
      "application/vnd.plotly.v1+json": {
       "config": {
        "plotlyServerURL": "https://plot.ly"
       },
       "data": [
        {
         "cells": {
          "align": "left",
          "fill": {
           "color": "lavender"
          },
          "values": [
           [
            "8/6",
            "8/5",
            "8/4",
            "8/3",
            "8/2",
            "8/1",
            "7/31",
            "7/29",
            "7/28",
            "7/27",
            "7/26",
            "7/25",
            "7/24",
            "7/23",
            "7/22",
            "7/21",
            "7/20",
            "7/19",
            "7/18",
            "7/17",
            "7/16",
            "7/15",
            "7/14",
            "7/13",
            "7/12",
            "7/11",
            "7/10",
            "7/9",
            "7/8",
            "7/7",
            "7/6",
            "7/5",
            "7/4",
            "7/3",
            "7/2",
            "7/1",
            "6/30",
            "6/29",
            "6/28",
            "6/27",
            "6/26",
            "6/25",
            "6/23",
            "6/22",
            "6/21",
            "6/20",
            "6/19",
            "6/18",
            "6/17",
            "6/16",
            "6/15",
            "6/14",
            "6/13",
            "6/12",
            "6/11",
            "6/10",
            "6/9",
            "6/8",
            "6/7",
            "6/6",
            "6/5",
            "6/4",
            "6/3",
            "6/2",
            "6/1",
            "5/31",
            "5/30",
            "5/29",
            "5/27",
            "5/26",
            "5/25",
            "5/24",
            "5/23",
            "5/22",
            "5/21",
            "5/20",
            "5/19",
            "5/18",
            "5/16",
            "5/15",
            "5/14",
            "5/13",
            "5/12",
            "5/11",
            "5/10",
            "5/9",
            "5/8",
            "5/7",
            "5/6",
            "5/5",
            "5/4",
            "5/3",
            "5/2",
            "5/1",
            "4/30",
            "4/29",
            "4/28",
            "4/27",
            "4/26",
            "4/25",
            "4/24",
            "4/23",
            "4/22",
            "4/21",
            "4/20",
            "4/19",
            "4/18",
            "4/17",
            "4/16",
            "4/15",
            "4/14",
            "4/13",
            "4/12",
            "4/11",
            "4/10",
            "4/9",
            "4/8",
            "4/7",
            "4/6",
            "4/4",
            "4/3",
            "4/2",
            "4/1",
            "3/31",
            "3/30",
            "3/29",
            "3/28",
            "3/27",
            "3/26",
            "3/25",
            "3/24",
            "3/23",
            "3/22",
            "3/21"
           ],
           [
            12589,
            12518,
            12443,
            12398,
            12313,
            12274,
            12205,
            12057,
            11999,
            11945,
            11858,
            11780,
            11717,
            11649,
            11571,
            11529,
            11427,
            11339,
            11261,
            11194,
            11115,
            11076,
            11026,
            10946,
            10906,
            10847,
            10801,
            10743,
            10679,
            10642,
            10569,
            10515,
            10482,
            10447,
            10435,
            10390,
            10365,
            10327,
            10292,
            10248,
            10216,
            10185,
            10128,
            10094,
            10058,
            10020,
            9984,
            9952,
            9903,
            9847,
            9818,
            9799,
            9767,
            9709,
            9654,
            9589,
            9537,
            9474,
            9389,
            9332,
            9269,
            9199,
            9120,
            9016,
            8886,
            8857,
            8801,
            8717,
            8492,
            8406,
            8334,
            8225,
            8110,
            7966,
            7893,
            7788,
            7551,
            7434,
            7123,
            7042,
            6871,
            6736,
            6584,
            6485,
            6389,
            6272,
            6102,
            5899,
            5654,
            5461,
            5322,
            5170,
            5016,
            4797,
            4658,
            4323,
            4106,
            3994,
            3892,
            3841,
            3699,
            3528,
            3361,
            3206,
            3098,
            2927,
            2793,
            2666,
            2476,
            2350,
            2197,
            2058,
            1955,
            1875,
            1778,
            1660,
            1523,
            1440,
            1211,
            998,
            902,
            757,
            653,
            586,
            495,
            401,
            342,
            304,
            267,
            231,
            183,
            137,
            116,
            98
           ],
           [
            208725,
            205983,
            202825,
            200127,
            198815,
            197192,
            193781,
            182990,
            180049,
            178022,
            174148,
            171598,
            169009,
            165260,
            162021,
            159572,
            155711,
            151740,
            147765,
            144955,
            141607,
            140242,
            137944,
            133916,
            130220,
            126883,
            124050,
            120884,
            115923,
            114289,
            110377,
            107650,
            105993,
            104554,
            102809,
            101063,
            100035,
            97295,
            95360,
            93132,
            89271,
            88123,
            84173,
            83302,
            82004,
            79522,
            77953,
            73791,
            72199,
            70086,
            67126,
            65846,
            64530,
            63036,
            61953,
            59288,
            58192,
            57152,
            55766,
            54547,
            53678,
            51861,
            51096,
            49562,
            47701,
            47263,
            46483,
            45629,
            43514,
            42697,
            42055,
            40803,
            40003,
            38928,
            42993,
            41756,
            40419,
            39374,
            36526,
            35532,
            34339,
            32999,
            31658,
            31050,
            30261,
            29570,
            28183,
            27115,
            25856,
            24984,
            24329,
            23795,
            23102,
            22004,
            21135,
            20079,
            19229,
            18885,
            18416,
            18068,
            17302,
            16533,
            15930,
            15502,
            14939,
            14113,
            13699,
            13268,
            12643,
            12150,
            11525,
            11284,
            10934,
            10640,
            10039,
            9355,
            8724,
            8283,
            7823,
            6834,
            6438,
            5584,
            5070,
            4398,
            3759,
            3085,
            2812,
            2516,
            2166,
            1858,
            1609,
            1334,
            1229,
            1055
           ],
           [
            71,
            75,
            45,
            85,
            39,
            69,
            148,
            58,
            54,
            87,
            78,
            63,
            68,
            78,
            42,
            102,
            88,
            78,
            67,
            79,
            39,
            50,
            80,
            40,
            59,
            46,
            58,
            64,
            37,
            73,
            54,
            33,
            35,
            12,
            45,
            25,
            38,
            35,
            44,
            32,
            31,
            57,
            34,
            36,
            38,
            36,
            32,
            49,
            56,
            29,
            19,
            32,
            58,
            55,
            65,
            52,
            63,
            85,
            57,
            63,
            70,
            79,
            104,
            130,
            29,
            56,
            84,
            225,
            86,
            72,
            109,
            115,
            144,
            73,
            105,
            237,
            117,
            311,
            81,
            171,
            135,
            152,
            99,
            96,
            117,
            170,
            203,
            245,
            193,
            139,
            152,
            154,
            219,
            139,
            335,
            217,
            112,
            102,
            51,
            142,
            171,
            167,
            155,
            108,
            171,
            134,
            127,
            190,
            126,
            153,
            139,
            103,
            80,
            97,
            118,
            137,
            83,
            229,
            213,
            96,
            145,
            104,
            67,
            91,
            94,
            59,
            38,
            37,
            36,
            48,
            46,
            21,
            18,
            21
           ],
           [
            2742,
            3158,
            2698,
            1312,
            1623,
            3411,
            10791,
            2941,
            2027,
            3874,
            2550,
            2589,
            3749,
            3239,
            2449,
            3861,
            3971,
            3975,
            2810,
            3348,
            1365,
            2298,
            4028,
            3696,
            3337,
            2833,
            3166,
            4961,
            1634,
            3912,
            2727,
            1657,
            1439,
            1745,
            1746,
            1028,
            2740,
            1935,
            2228,
            3861,
            1148,
            3950,
            871,
            1298,
            2482,
            1569,
            4162,
            1592,
            2113,
            2960,
            1280,
            1316,
            1494,
            1083,
            2665,
            1096,
            1040,
            1386,
            1219,
            869,
            1817,
            765,
            1534,
            1861,
            438,
            780,
            854,
            2115,
            817,
            642,
            1252,
            800,
            1075,
            -4065,
            1237,
            1337,
            1045,
            2848,
            994,
            1193,
            1340,
            1341,
            608,
            789,
            691,
            1387,
            1068,
            1259,
            872,
            655,
            534,
            693,
            1098,
            869,
            1056,
            850,
            344,
            469,
            348,
            766,
            769,
            603,
            428,
            563,
            826,
            414,
            431,
            625,
            493,
            625,
            241,
            350,
            294,
            601,
            684,
            631,
            441,
            460,
            989,
            396,
            854,
            514,
            672,
            639,
            674,
            273,
            296,
            350,
            308,
            249,
            275,
            105,
            174,
            482
           ],
           [
            2.59,
            2.37,
            1.67,
            6.48,
            2.4,
            2.02,
            1.37,
            1.97,
            2.66,
            2.25,
            3.06,
            2.43,
            1.81,
            2.41,
            1.71,
            2.64,
            2.22,
            1.96,
            2.38,
            2.36,
            2.86,
            2.18,
            1.99,
            1.08,
            1.77,
            1.62,
            1.83,
            1.29,
            2.26,
            1.87,
            1.98,
            1.99,
            2.43,
            0.69,
            2.58,
            2.43,
            1.39,
            1.81,
            1.97,
            0.83,
            2.7,
            1.44,
            3.9,
            2.77,
            1.53,
            2.29,
            0.77,
            3.08,
            2.65,
            0.98,
            1.48,
            2.43,
            3.88,
            5.08,
            2.44,
            4.74,
            6.06,
            6.13,
            4.68,
            7.25,
            3.85,
            10.33,
            6.78,
            6.99,
            6.62,
            7.18,
            9.84,
            10.64,
            10.53,
            11.21,
            8.71,
            14.37,
            13.4,
            -1.8,
            8.49,
            17.73,
            11.2,
            10.92,
            8.15,
            14.33,
            10.07,
            11.33,
            16.28,
            12.17,
            16.93,
            12.26,
            19.01,
            19.46,
            22.13,
            21.22,
            28.46,
            22.22,
            19.95,
            16,
            31.72,
            25.53,
            32.56,
            21.75,
            14.66,
            18.54,
            22.24,
            27.69,
            36.21,
            19.18,
            20.7,
            32.37,
            29.47,
            30.4,
            25.56,
            24.48,
            57.68,
            29.43,
            27.21,
            16.14,
            17.25,
            21.71,
            18.82,
            49.78,
            21.54,
            24.24,
            16.98,
            20.23,
            9.97,
            14.24,
            13.95,
            21.61,
            12.84,
            10.57,
            11.69,
            19.28,
            16.73,
            20,
            10.34,
            4.36
           ]
          ]
         },
         "header": {
          "align": "left",
          "fill": {
           "color": "paleturquoise"
          },
          "values": [
           "Dates",
           "Positives",
           "Overall",
           "Δ +",
           "Δ total",
           "Rate"
          ]
         },
         "type": "table"
        }
       ],
       "layout": {
        "template": {
         "data": {
          "bar": [
           {
            "error_x": {
             "color": "#2a3f5f"
            },
            "error_y": {
             "color": "#2a3f5f"
            },
            "marker": {
             "line": {
              "color": "#E5ECF6",
              "width": 0.5
             }
            },
            "type": "bar"
           }
          ],
          "barpolar": [
           {
            "marker": {
             "line": {
              "color": "#E5ECF6",
              "width": 0.5
             }
            },
            "type": "barpolar"
           }
          ],
          "carpet": [
           {
            "aaxis": {
             "endlinecolor": "#2a3f5f",
             "gridcolor": "white",
             "linecolor": "white",
             "minorgridcolor": "white",
             "startlinecolor": "#2a3f5f"
            },
            "baxis": {
             "endlinecolor": "#2a3f5f",
             "gridcolor": "white",
             "linecolor": "white",
             "minorgridcolor": "white",
             "startlinecolor": "#2a3f5f"
            },
            "type": "carpet"
           }
          ],
          "choropleth": [
           {
            "colorbar": {
             "outlinewidth": 0,
             "ticks": ""
            },
            "type": "choropleth"
           }
          ],
          "contour": [
           {
            "colorbar": {
             "outlinewidth": 0,
             "ticks": ""
            },
            "colorscale": [
             [
              0,
              "#0d0887"
             ],
             [
              0.1111111111111111,
              "#46039f"
             ],
             [
              0.2222222222222222,
              "#7201a8"
             ],
             [
              0.3333333333333333,
              "#9c179e"
             ],
             [
              0.4444444444444444,
              "#bd3786"
             ],
             [
              0.5555555555555556,
              "#d8576b"
             ],
             [
              0.6666666666666666,
              "#ed7953"
             ],
             [
              0.7777777777777778,
              "#fb9f3a"
             ],
             [
              0.8888888888888888,
              "#fdca26"
             ],
             [
              1,
              "#f0f921"
             ]
            ],
            "type": "contour"
           }
          ],
          "contourcarpet": [
           {
            "colorbar": {
             "outlinewidth": 0,
             "ticks": ""
            },
            "type": "contourcarpet"
           }
          ],
          "heatmap": [
           {
            "colorbar": {
             "outlinewidth": 0,
             "ticks": ""
            },
            "colorscale": [
             [
              0,
              "#0d0887"
             ],
             [
              0.1111111111111111,
              "#46039f"
             ],
             [
              0.2222222222222222,
              "#7201a8"
             ],
             [
              0.3333333333333333,
              "#9c179e"
             ],
             [
              0.4444444444444444,
              "#bd3786"
             ],
             [
              0.5555555555555556,
              "#d8576b"
             ],
             [
              0.6666666666666666,
              "#ed7953"
             ],
             [
              0.7777777777777778,
              "#fb9f3a"
             ],
             [
              0.8888888888888888,
              "#fdca26"
             ],
             [
              1,
              "#f0f921"
             ]
            ],
            "type": "heatmap"
           }
          ],
          "heatmapgl": [
           {
            "colorbar": {
             "outlinewidth": 0,
             "ticks": ""
            },
            "colorscale": [
             [
              0,
              "#0d0887"
             ],
             [
              0.1111111111111111,
              "#46039f"
             ],
             [
              0.2222222222222222,
              "#7201a8"
             ],
             [
              0.3333333333333333,
              "#9c179e"
             ],
             [
              0.4444444444444444,
              "#bd3786"
             ],
             [
              0.5555555555555556,
              "#d8576b"
             ],
             [
              0.6666666666666666,
              "#ed7953"
             ],
             [
              0.7777777777777778,
              "#fb9f3a"
             ],
             [
              0.8888888888888888,
              "#fdca26"
             ],
             [
              1,
              "#f0f921"
             ]
            ],
            "type": "heatmapgl"
           }
          ],
          "histogram": [
           {
            "marker": {
             "colorbar": {
              "outlinewidth": 0,
              "ticks": ""
             }
            },
            "type": "histogram"
           }
          ],
          "histogram2d": [
           {
            "colorbar": {
             "outlinewidth": 0,
             "ticks": ""
            },
            "colorscale": [
             [
              0,
              "#0d0887"
             ],
             [
              0.1111111111111111,
              "#46039f"
             ],
             [
              0.2222222222222222,
              "#7201a8"
             ],
             [
              0.3333333333333333,
              "#9c179e"
             ],
             [
              0.4444444444444444,
              "#bd3786"
             ],
             [
              0.5555555555555556,
              "#d8576b"
             ],
             [
              0.6666666666666666,
              "#ed7953"
             ],
             [
              0.7777777777777778,
              "#fb9f3a"
             ],
             [
              0.8888888888888888,
              "#fdca26"
             ],
             [
              1,
              "#f0f921"
             ]
            ],
            "type": "histogram2d"
           }
          ],
          "histogram2dcontour": [
           {
            "colorbar": {
             "outlinewidth": 0,
             "ticks": ""
            },
            "colorscale": [
             [
              0,
              "#0d0887"
             ],
             [
              0.1111111111111111,
              "#46039f"
             ],
             [
              0.2222222222222222,
              "#7201a8"
             ],
             [
              0.3333333333333333,
              "#9c179e"
             ],
             [
              0.4444444444444444,
              "#bd3786"
             ],
             [
              0.5555555555555556,
              "#d8576b"
             ],
             [
              0.6666666666666666,
              "#ed7953"
             ],
             [
              0.7777777777777778,
              "#fb9f3a"
             ],
             [
              0.8888888888888888,
              "#fdca26"
             ],
             [
              1,
              "#f0f921"
             ]
            ],
            "type": "histogram2dcontour"
           }
          ],
          "mesh3d": [
           {
            "colorbar": {
             "outlinewidth": 0,
             "ticks": ""
            },
            "type": "mesh3d"
           }
          ],
          "parcoords": [
           {
            "line": {
             "colorbar": {
              "outlinewidth": 0,
              "ticks": ""
             }
            },
            "type": "parcoords"
           }
          ],
          "pie": [
           {
            "automargin": true,
            "type": "pie"
           }
          ],
          "scatter": [
           {
            "marker": {
             "colorbar": {
              "outlinewidth": 0,
              "ticks": ""
             }
            },
            "type": "scatter"
           }
          ],
          "scatter3d": [
           {
            "line": {
             "colorbar": {
              "outlinewidth": 0,
              "ticks": ""
             }
            },
            "marker": {
             "colorbar": {
              "outlinewidth": 0,
              "ticks": ""
             }
            },
            "type": "scatter3d"
           }
          ],
          "scattercarpet": [
           {
            "marker": {
             "colorbar": {
              "outlinewidth": 0,
              "ticks": ""
             }
            },
            "type": "scattercarpet"
           }
          ],
          "scattergeo": [
           {
            "marker": {
             "colorbar": {
              "outlinewidth": 0,
              "ticks": ""
             }
            },
            "type": "scattergeo"
           }
          ],
          "scattergl": [
           {
            "marker": {
             "colorbar": {
              "outlinewidth": 0,
              "ticks": ""
             }
            },
            "type": "scattergl"
           }
          ],
          "scattermapbox": [
           {
            "marker": {
             "colorbar": {
              "outlinewidth": 0,
              "ticks": ""
             }
            },
            "type": "scattermapbox"
           }
          ],
          "scatterpolar": [
           {
            "marker": {
             "colorbar": {
              "outlinewidth": 0,
              "ticks": ""
             }
            },
            "type": "scatterpolar"
           }
          ],
          "scatterpolargl": [
           {
            "marker": {
             "colorbar": {
              "outlinewidth": 0,
              "ticks": ""
             }
            },
            "type": "scatterpolargl"
           }
          ],
          "scatterternary": [
           {
            "marker": {
             "colorbar": {
              "outlinewidth": 0,
              "ticks": ""
             }
            },
            "type": "scatterternary"
           }
          ],
          "surface": [
           {
            "colorbar": {
             "outlinewidth": 0,
             "ticks": ""
            },
            "colorscale": [
             [
              0,
              "#0d0887"
             ],
             [
              0.1111111111111111,
              "#46039f"
             ],
             [
              0.2222222222222222,
              "#7201a8"
             ],
             [
              0.3333333333333333,
              "#9c179e"
             ],
             [
              0.4444444444444444,
              "#bd3786"
             ],
             [
              0.5555555555555556,
              "#d8576b"
             ],
             [
              0.6666666666666666,
              "#ed7953"
             ],
             [
              0.7777777777777778,
              "#fb9f3a"
             ],
             [
              0.8888888888888888,
              "#fdca26"
             ],
             [
              1,
              "#f0f921"
             ]
            ],
            "type": "surface"
           }
          ],
          "table": [
           {
            "cells": {
             "fill": {
              "color": "#EBF0F8"
             },
             "line": {
              "color": "white"
             }
            },
            "header": {
             "fill": {
              "color": "#C8D4E3"
             },
             "line": {
              "color": "white"
             }
            },
            "type": "table"
           }
          ]
         },
         "layout": {
          "annotationdefaults": {
           "arrowcolor": "#2a3f5f",
           "arrowhead": 0,
           "arrowwidth": 1
          },
          "coloraxis": {
           "colorbar": {
            "outlinewidth": 0,
            "ticks": ""
           }
          },
          "colorscale": {
           "diverging": [
            [
             0,
             "#8e0152"
            ],
            [
             0.1,
             "#c51b7d"
            ],
            [
             0.2,
             "#de77ae"
            ],
            [
             0.3,
             "#f1b6da"
            ],
            [
             0.4,
             "#fde0ef"
            ],
            [
             0.5,
             "#f7f7f7"
            ],
            [
             0.6,
             "#e6f5d0"
            ],
            [
             0.7,
             "#b8e186"
            ],
            [
             0.8,
             "#7fbc41"
            ],
            [
             0.9,
             "#4d9221"
            ],
            [
             1,
             "#276419"
            ]
           ],
           "sequential": [
            [
             0,
             "#0d0887"
            ],
            [
             0.1111111111111111,
             "#46039f"
            ],
            [
             0.2222222222222222,
             "#7201a8"
            ],
            [
             0.3333333333333333,
             "#9c179e"
            ],
            [
             0.4444444444444444,
             "#bd3786"
            ],
            [
             0.5555555555555556,
             "#d8576b"
            ],
            [
             0.6666666666666666,
             "#ed7953"
            ],
            [
             0.7777777777777778,
             "#fb9f3a"
            ],
            [
             0.8888888888888888,
             "#fdca26"
            ],
            [
             1,
             "#f0f921"
            ]
           ],
           "sequentialminus": [
            [
             0,
             "#0d0887"
            ],
            [
             0.1111111111111111,
             "#46039f"
            ],
            [
             0.2222222222222222,
             "#7201a8"
            ],
            [
             0.3333333333333333,
             "#9c179e"
            ],
            [
             0.4444444444444444,
             "#bd3786"
            ],
            [
             0.5555555555555556,
             "#d8576b"
            ],
            [
             0.6666666666666666,
             "#ed7953"
            ],
            [
             0.7777777777777778,
             "#fb9f3a"
            ],
            [
             0.8888888888888888,
             "#fdca26"
            ],
            [
             1,
             "#f0f921"
            ]
           ]
          },
          "colorway": [
           "#636efa",
           "#EF553B",
           "#00cc96",
           "#ab63fa",
           "#FFA15A",
           "#19d3f3",
           "#FF6692",
           "#B6E880",
           "#FF97FF",
           "#FECB52"
          ],
          "font": {
           "color": "#2a3f5f"
          },
          "geo": {
           "bgcolor": "white",
           "lakecolor": "white",
           "landcolor": "#E5ECF6",
           "showlakes": true,
           "showland": true,
           "subunitcolor": "white"
          },
          "hoverlabel": {
           "align": "left"
          },
          "hovermode": "closest",
          "mapbox": {
           "style": "light"
          },
          "paper_bgcolor": "white",
          "plot_bgcolor": "#E5ECF6",
          "polar": {
           "angularaxis": {
            "gridcolor": "white",
            "linecolor": "white",
            "ticks": ""
           },
           "bgcolor": "#E5ECF6",
           "radialaxis": {
            "gridcolor": "white",
            "linecolor": "white",
            "ticks": ""
           }
          },
          "scene": {
           "xaxis": {
            "backgroundcolor": "#E5ECF6",
            "gridcolor": "white",
            "gridwidth": 2,
            "linecolor": "white",
            "showbackground": true,
            "ticks": "",
            "zerolinecolor": "white"
           },
           "yaxis": {
            "backgroundcolor": "#E5ECF6",
            "gridcolor": "white",
            "gridwidth": 2,
            "linecolor": "white",
            "showbackground": true,
            "ticks": "",
            "zerolinecolor": "white"
           },
           "zaxis": {
            "backgroundcolor": "#E5ECF6",
            "gridcolor": "white",
            "gridwidth": 2,
            "linecolor": "white",
            "showbackground": true,
            "ticks": "",
            "zerolinecolor": "white"
           }
          },
          "shapedefaults": {
           "line": {
            "color": "#2a3f5f"
           }
          },
          "ternary": {
           "aaxis": {
            "gridcolor": "white",
            "linecolor": "white",
            "ticks": ""
           },
           "baxis": {
            "gridcolor": "white",
            "linecolor": "white",
            "ticks": ""
           },
           "bgcolor": "#E5ECF6",
           "caxis": {
            "gridcolor": "white",
            "linecolor": "white",
            "ticks": ""
           }
          },
          "title": {
           "x": 0.05
          },
          "xaxis": {
           "automargin": true,
           "gridcolor": "white",
           "linecolor": "white",
           "ticks": "",
           "title": {
            "standoff": 15
           },
           "zerolinecolor": "white",
           "zerolinewidth": 2
          },
          "yaxis": {
           "automargin": true,
           "gridcolor": "white",
           "linecolor": "white",
           "ticks": "",
           "title": {
            "standoff": 15
           },
           "zerolinecolor": "white",
           "zerolinewidth": 2
          }
         }
        }
       }
      },
      "text/html": [
       "<div>\n",
       "        \n",
       "        \n",
       "            <div id=\"36d4be99-67cb-46f2-a55b-88b515528047\" class=\"plotly-graph-div\" style=\"height:525px; width:100%;\"></div>\n",
       "            <script type=\"text/javascript\">\n",
       "                require([\"plotly\"], function(Plotly) {\n",
       "                    window.PLOTLYENV=window.PLOTLYENV || {};\n",
       "                    \n",
       "                if (document.getElementById(\"36d4be99-67cb-46f2-a55b-88b515528047\")) {\n",
       "                    Plotly.newPlot(\n",
       "                        '36d4be99-67cb-46f2-a55b-88b515528047',\n",
       "                        [{\"cells\": {\"align\": \"left\", \"fill\": {\"color\": \"lavender\"}, \"values\": [[\"8/6\", \"8/5\", \"8/4\", \"8/3\", \"8/2\", \"8/1\", \"7/31\", \"7/29\", \"7/28\", \"7/27\", \"7/26\", \"7/25\", \"7/24\", \"7/23\", \"7/22\", \"7/21\", \"7/20\", \"7/19\", \"7/18\", \"7/17\", \"7/16\", \"7/15\", \"7/14\", \"7/13\", \"7/12\", \"7/11\", \"7/10\", \"7/9\", \"7/8\", \"7/7\", \"7/6\", \"7/5\", \"7/4\", \"7/3\", \"7/2\", \"7/1\", \"6/30\", \"6/29\", \"6/28\", \"6/27\", \"6/26\", \"6/25\", \"6/23\", \"6/22\", \"6/21\", \"6/20\", \"6/19\", \"6/18\", \"6/17\", \"6/16\", \"6/15\", \"6/14\", \"6/13\", \"6/12\", \"6/11\", \"6/10\", \"6/9\", \"6/8\", \"6/7\", \"6/6\", \"6/5\", \"6/4\", \"6/3\", \"6/2\", \"6/1\", \"5/31\", \"5/30\", \"5/29\", \"5/27\", \"5/26\", \"5/25\", \"5/24\", \"5/23\", \"5/22\", \"5/21\", \"5/20\", \"5/19\", \"5/18\", \"5/16\", \"5/15\", \"5/14\", \"5/13\", \"5/12\", \"5/11\", \"5/10\", \"5/9\", \"5/8\", \"5/7\", \"5/6\", \"5/5\", \"5/4\", \"5/3\", \"5/2\", \"5/1\", \"4/30\", \"4/29\", \"4/28\", \"4/27\", \"4/26\", \"4/25\", \"4/24\", \"4/23\", \"4/22\", \"4/21\", \"4/20\", \"4/19\", \"4/18\", \"4/17\", \"4/16\", \"4/15\", \"4/14\", \"4/13\", \"4/12\", \"4/11\", \"4/10\", \"4/9\", \"4/8\", \"4/7\", \"4/6\", \"4/4\", \"4/3\", \"4/2\", \"4/1\", \"3/31\", \"3/30\", \"3/29\", \"3/28\", \"3/27\", \"3/26\", \"3/25\", \"3/24\", \"3/23\", \"3/22\", \"3/21\"], [12589.0, 12518.0, 12443.0, 12398.0, 12313.0, 12274.0, 12205.0, 12057.0, 11999.0, 11945.0, 11858.0, 11780.0, 11717.0, 11649.0, 11571.0, 11529.0, 11427.0, 11339.0, 11261.0, 11194.0, 11115.0, 11076.0, 11026.0, 10946.0, 10906.0, 10847.0, 10801.0, 10743.0, 10679.0, 10642.0, 10569.0, 10515.0, 10482.0, 10447.0, 10435.0, 10390.0, 10365.0, 10327.0, 10292.0, 10248.0, 10216.0, 10185.0, 10128.0, 10094.0, 10058.0, 10020.0, 9984.0, 9952.0, 9903.0, 9847.0, 9818.0, 9799.0, 9767.0, 9709.0, 9654.0, 9589.0, 9537.0, 9474.0, 9389.0, 9332.0, 9269.0, 9199.0, 9120.0, 9016.0, 8886.0, 8857.0, 8801.0, 8717.0, 8492.0, 8406.0, 8334.0, 8225.0, 8110.0, 7966.0, 7893.0, 7788.0, 7551.0, 7434.0, 7123.0, 7042.0, 6871.0, 6736.0, 6584.0, 6485.0, 6389.0, 6272.0, 6102.0, 5899.0, 5654.0, 5461.0, 5322.0, 5170.0, 5016.0, 4797.0, 4658.0, 4323.0, 4106.0, 3994.0, 3892.0, 3841.0, 3699.0, 3528.0, 3361.0, 3206.0, 3098.0, 2927.0, 2793.0, 2666.0, 2476.0, 2350.0, 2197.0, 2058.0, 1955.0, 1875.0, 1778.0, 1660.0, 1523.0, 1440.0, 1211.0, 998.0, 902.0, 757.0, 653.0, 586.0, 495.0, 401.0, 342.0, 304.0, 267.0, 231.0, 183.0, 137.0, 116.0, 98.0], [208725.0, 205983.0, 202825.0, 200127.0, 198815.0, 197192.0, 193781.0, 182990.0, 180049.0, 178022.0, 174148.0, 171598.0, 169009.0, 165260.0, 162021.0, 159572.0, 155711.0, 151740.0, 147765.0, 144955.0, 141607.0, 140242.0, 137944.0, 133916.0, 130220.0, 126883.0, 124050.0, 120884.0, 115923.0, 114289.0, 110377.0, 107650.0, 105993.0, 104554.0, 102809.0, 101063.0, 100035.0, 97295.0, 95360.0, 93132.0, 89271.0, 88123.0, 84173.0, 83302.0, 82004.0, 79522.0, 77953.0, 73791.0, 72199.0, 70086.0, 67126.0, 65846.0, 64530.0, 63036.0, 61953.0, 59288.0, 58192.0, 57152.0, 55766.0, 54547.0, 53678.0, 51861.0, 51096.0, 49562.0, 47701.0, 47263.0, 46483.0, 45629.0, 43514.0, 42697.0, 42055.0, 40803.0, 40003.0, 38928.0, 42993.0, 41756.0, 40419.0, 39374.0, 36526.0, 35532.0, 34339.0, 32999.0, 31658.0, 31050.0, 30261.0, 29570.0, 28183.0, 27115.0, 25856.0, 24984.0, 24329.0, 23795.0, 23102.0, 22004.0, 21135.0, 20079.0, 19229.0, 18885.0, 18416.0, 18068.0, 17302.0, 16533.0, 15930.0, 15502.0, 14939.0, 14113.0, 13699.0, 13268.0, 12643.0, 12150.0, 11525.0, 11284.0, 10934.0, 10640.0, 10039.0, 9355.0, 8724.0, 8283.0, 7823.0, 6834.0, 6438.0, 5584.0, 5070.0, 4398.0, 3759.0, 3085.0, 2812.0, 2516.0, 2166.0, 1858.0, 1609.0, 1334.0, 1229.0, 1055.0], [71.0, 75.0, 45.0, 85.0, 39.0, 69.0, 148.0, 58.0, 54.0, 87.0, 78.0, 63.0, 68.0, 78.0, 42.0, 102.0, 88.0, 78.0, 67.0, 79.0, 39.0, 50.0, 80.0, 40.0, 59.0, 46.0, 58.0, 64.0, 37.0, 73.0, 54.0, 33.0, 35.0, 12.0, 45.0, 25.0, 38.0, 35.0, 44.0, 32.0, 31.0, 57.0, 34.0, 36.0, 38.0, 36.0, 32.0, 49.0, 56.0, 29.0, 19.0, 32.0, 58.0, 55.0, 65.0, 52.0, 63.0, 85.0, 57.0, 63.0, 70.0, 79.0, 104.0, 130.0, 29.0, 56.0, 84.0, 225.0, 86.0, 72.0, 109.0, 115.0, 144.0, 73.0, 105.0, 237.0, 117.0, 311.0, 81.0, 171.0, 135.0, 152.0, 99.0, 96.0, 117.0, 170.0, 203.0, 245.0, 193.0, 139.0, 152.0, 154.0, 219.0, 139.0, 335.0, 217.0, 112.0, 102.0, 51.0, 142.0, 171.0, 167.0, 155.0, 108.0, 171.0, 134.0, 127.0, 190.0, 126.0, 153.0, 139.0, 103.0, 80.0, 97.0, 118.0, 137.0, 83.0, 229.0, 213.0, 96.0, 145.0, 104.0, 67.0, 91.0, 94.0, 59.0, 38.0, 37.0, 36.0, 48.0, 46.0, 21.0, 18.0, 21.0], [2742.0, 3158.0, 2698.0, 1312.0, 1623.0, 3411.0, 10791.0, 2941.0, 2027.0, 3874.0, 2550.0, 2589.0, 3749.0, 3239.0, 2449.0, 3861.0, 3971.0, 3975.0, 2810.0, 3348.0, 1365.0, 2298.0, 4028.0, 3696.0, 3337.0, 2833.0, 3166.0, 4961.0, 1634.0, 3912.0, 2727.0, 1657.0, 1439.0, 1745.0, 1746.0, 1028.0, 2740.0, 1935.0, 2228.0, 3861.0, 1148.0, 3950.0, 871.0, 1298.0, 2482.0, 1569.0, 4162.0, 1592.0, 2113.0, 2960.0, 1280.0, 1316.0, 1494.0, 1083.0, 2665.0, 1096.0, 1040.0, 1386.0, 1219.0, 869.0, 1817.0, 765.0, 1534.0, 1861.0, 438.0, 780.0, 854.0, 2115.0, 817.0, 642.0, 1252.0, 800.0, 1075.0, -4065.0, 1237.0, 1337.0, 1045.0, 2848.0, 994.0, 1193.0, 1340.0, 1341.0, 608.0, 789.0, 691.0, 1387.0, 1068.0, 1259.0, 872.0, 655.0, 534.0, 693.0, 1098.0, 869.0, 1056.0, 850.0, 344.0, 469.0, 348.0, 766.0, 769.0, 603.0, 428.0, 563.0, 826.0, 414.0, 431.0, 625.0, 493.0, 625.0, 241.0, 350.0, 294.0, 601.0, 684.0, 631.0, 441.0, 460.0, 989.0, 396.0, 854.0, 514.0, 672.0, 639.0, 674.0, 273.0, 296.0, 350.0, 308.0, 249.0, 275.0, 105.0, 174.0, 482.0], [2.59, 2.37, 1.67, 6.48, 2.4, 2.02, 1.37, 1.97, 2.66, 2.25, 3.06, 2.43, 1.81, 2.41, 1.71, 2.64, 2.22, 1.96, 2.38, 2.36, 2.86, 2.18, 1.99, 1.08, 1.77, 1.62, 1.83, 1.29, 2.26, 1.87, 1.98, 1.99, 2.43, 0.69, 2.58, 2.43, 1.39, 1.81, 1.97, 0.83, 2.7, 1.44, 3.9, 2.77, 1.53, 2.29, 0.77, 3.08, 2.65, 0.98, 1.48, 2.43, 3.88, 5.08, 2.44, 4.74, 6.06, 6.13, 4.68, 7.25, 3.85, 10.33, 6.78, 6.99, 6.62, 7.18, 9.84, 10.64, 10.53, 11.21, 8.71, 14.37, 13.4, -1.8, 8.49, 17.73, 11.2, 10.92, 8.15, 14.33, 10.07, 11.33, 16.28, 12.17, 16.93, 12.26, 19.01, 19.46, 22.13, 21.22, 28.46, 22.22, 19.95, 16.0, 31.72, 25.53, 32.56, 21.75, 14.66, 18.54, 22.24, 27.69, 36.21, 19.18, 20.7, 32.37, 29.47, 30.4, 25.56, 24.48, 57.68, 29.43, 27.21, 16.14, 17.25, 21.71, 18.82, 49.78, 21.54, 24.24, 16.98, 20.23, 9.97, 14.24, 13.95, 21.61, 12.84, 10.57, 11.69, 19.28, 16.73, 20.0, 10.34, 4.36]]}, \"header\": {\"align\": \"left\", \"fill\": {\"color\": \"paleturquoise\"}, \"values\": [\"Dates\", \"Positives\", \"Overall\", \"\\u0394 +\", \"\\u0394 total\", \"Rate\"]}, \"type\": \"table\"}],\n",
       "                        {\"template\": {\"data\": {\"bar\": [{\"error_x\": {\"color\": \"#2a3f5f\"}, \"error_y\": {\"color\": \"#2a3f5f\"}, \"marker\": {\"line\": {\"color\": \"#E5ECF6\", \"width\": 0.5}}, \"type\": \"bar\"}], \"barpolar\": [{\"marker\": {\"line\": {\"color\": \"#E5ECF6\", \"width\": 0.5}}, \"type\": \"barpolar\"}], \"carpet\": [{\"aaxis\": {\"endlinecolor\": \"#2a3f5f\", \"gridcolor\": \"white\", \"linecolor\": \"white\", \"minorgridcolor\": \"white\", \"startlinecolor\": \"#2a3f5f\"}, \"baxis\": {\"endlinecolor\": \"#2a3f5f\", \"gridcolor\": \"white\", \"linecolor\": \"white\", \"minorgridcolor\": \"white\", \"startlinecolor\": \"#2a3f5f\"}, \"type\": \"carpet\"}], \"choropleth\": [{\"colorbar\": {\"outlinewidth\": 0, \"ticks\": \"\"}, \"type\": \"choropleth\"}], \"contour\": [{\"colorbar\": {\"outlinewidth\": 0, \"ticks\": \"\"}, \"colorscale\": [[0.0, \"#0d0887\"], [0.1111111111111111, \"#46039f\"], [0.2222222222222222, \"#7201a8\"], [0.3333333333333333, \"#9c179e\"], [0.4444444444444444, \"#bd3786\"], [0.5555555555555556, \"#d8576b\"], [0.6666666666666666, \"#ed7953\"], [0.7777777777777778, \"#fb9f3a\"], [0.8888888888888888, \"#fdca26\"], [1.0, \"#f0f921\"]], \"type\": \"contour\"}], \"contourcarpet\": [{\"colorbar\": {\"outlinewidth\": 0, \"ticks\": \"\"}, \"type\": \"contourcarpet\"}], \"heatmap\": [{\"colorbar\": {\"outlinewidth\": 0, \"ticks\": \"\"}, \"colorscale\": [[0.0, \"#0d0887\"], [0.1111111111111111, \"#46039f\"], [0.2222222222222222, \"#7201a8\"], [0.3333333333333333, \"#9c179e\"], [0.4444444444444444, \"#bd3786\"], [0.5555555555555556, \"#d8576b\"], [0.6666666666666666, \"#ed7953\"], [0.7777777777777778, \"#fb9f3a\"], [0.8888888888888888, \"#fdca26\"], [1.0, \"#f0f921\"]], \"type\": \"heatmap\"}], \"heatmapgl\": [{\"colorbar\": {\"outlinewidth\": 0, \"ticks\": \"\"}, \"colorscale\": [[0.0, \"#0d0887\"], [0.1111111111111111, \"#46039f\"], [0.2222222222222222, \"#7201a8\"], [0.3333333333333333, \"#9c179e\"], [0.4444444444444444, \"#bd3786\"], [0.5555555555555556, \"#d8576b\"], [0.6666666666666666, \"#ed7953\"], [0.7777777777777778, \"#fb9f3a\"], [0.8888888888888888, \"#fdca26\"], [1.0, \"#f0f921\"]], \"type\": \"heatmapgl\"}], \"histogram\": [{\"marker\": {\"colorbar\": {\"outlinewidth\": 0, \"ticks\": \"\"}}, \"type\": \"histogram\"}], \"histogram2d\": [{\"colorbar\": {\"outlinewidth\": 0, \"ticks\": \"\"}, \"colorscale\": [[0.0, \"#0d0887\"], [0.1111111111111111, \"#46039f\"], [0.2222222222222222, \"#7201a8\"], [0.3333333333333333, \"#9c179e\"], [0.4444444444444444, \"#bd3786\"], [0.5555555555555556, \"#d8576b\"], [0.6666666666666666, \"#ed7953\"], [0.7777777777777778, \"#fb9f3a\"], [0.8888888888888888, \"#fdca26\"], [1.0, \"#f0f921\"]], \"type\": \"histogram2d\"}], \"histogram2dcontour\": [{\"colorbar\": {\"outlinewidth\": 0, \"ticks\": \"\"}, \"colorscale\": [[0.0, \"#0d0887\"], [0.1111111111111111, \"#46039f\"], [0.2222222222222222, \"#7201a8\"], [0.3333333333333333, \"#9c179e\"], [0.4444444444444444, \"#bd3786\"], [0.5555555555555556, \"#d8576b\"], [0.6666666666666666, \"#ed7953\"], [0.7777777777777778, \"#fb9f3a\"], [0.8888888888888888, \"#fdca26\"], [1.0, \"#f0f921\"]], \"type\": \"histogram2dcontour\"}], \"mesh3d\": [{\"colorbar\": {\"outlinewidth\": 0, \"ticks\": \"\"}, \"type\": \"mesh3d\"}], \"parcoords\": [{\"line\": {\"colorbar\": {\"outlinewidth\": 0, \"ticks\": \"\"}}, \"type\": \"parcoords\"}], \"pie\": [{\"automargin\": true, \"type\": \"pie\"}], \"scatter\": [{\"marker\": {\"colorbar\": {\"outlinewidth\": 0, \"ticks\": \"\"}}, \"type\": \"scatter\"}], \"scatter3d\": [{\"line\": {\"colorbar\": {\"outlinewidth\": 0, \"ticks\": \"\"}}, \"marker\": {\"colorbar\": {\"outlinewidth\": 0, \"ticks\": \"\"}}, \"type\": \"scatter3d\"}], \"scattercarpet\": [{\"marker\": {\"colorbar\": {\"outlinewidth\": 0, \"ticks\": \"\"}}, \"type\": \"scattercarpet\"}], \"scattergeo\": [{\"marker\": {\"colorbar\": {\"outlinewidth\": 0, \"ticks\": \"\"}}, \"type\": \"scattergeo\"}], \"scattergl\": [{\"marker\": {\"colorbar\": {\"outlinewidth\": 0, \"ticks\": \"\"}}, \"type\": \"scattergl\"}], \"scattermapbox\": [{\"marker\": {\"colorbar\": {\"outlinewidth\": 0, \"ticks\": \"\"}}, \"type\": \"scattermapbox\"}], \"scatterpolar\": [{\"marker\": {\"colorbar\": {\"outlinewidth\": 0, \"ticks\": \"\"}}, \"type\": \"scatterpolar\"}], \"scatterpolargl\": [{\"marker\": {\"colorbar\": {\"outlinewidth\": 0, \"ticks\": \"\"}}, \"type\": \"scatterpolargl\"}], \"scatterternary\": [{\"marker\": {\"colorbar\": {\"outlinewidth\": 0, \"ticks\": \"\"}}, \"type\": \"scatterternary\"}], \"surface\": [{\"colorbar\": {\"outlinewidth\": 0, \"ticks\": \"\"}, \"colorscale\": [[0.0, \"#0d0887\"], [0.1111111111111111, \"#46039f\"], [0.2222222222222222, \"#7201a8\"], [0.3333333333333333, \"#9c179e\"], [0.4444444444444444, \"#bd3786\"], [0.5555555555555556, \"#d8576b\"], [0.6666666666666666, \"#ed7953\"], [0.7777777777777778, \"#fb9f3a\"], [0.8888888888888888, \"#fdca26\"], [1.0, \"#f0f921\"]], \"type\": \"surface\"}], \"table\": [{\"cells\": {\"fill\": {\"color\": \"#EBF0F8\"}, \"line\": {\"color\": \"white\"}}, \"header\": {\"fill\": {\"color\": \"#C8D4E3\"}, \"line\": {\"color\": \"white\"}}, \"type\": \"table\"}]}, \"layout\": {\"annotationdefaults\": {\"arrowcolor\": \"#2a3f5f\", \"arrowhead\": 0, \"arrowwidth\": 1}, \"coloraxis\": {\"colorbar\": {\"outlinewidth\": 0, \"ticks\": \"\"}}, \"colorscale\": {\"diverging\": [[0, \"#8e0152\"], [0.1, \"#c51b7d\"], [0.2, \"#de77ae\"], [0.3, \"#f1b6da\"], [0.4, \"#fde0ef\"], [0.5, \"#f7f7f7\"], [0.6, \"#e6f5d0\"], [0.7, \"#b8e186\"], [0.8, \"#7fbc41\"], [0.9, \"#4d9221\"], [1, \"#276419\"]], \"sequential\": [[0.0, \"#0d0887\"], [0.1111111111111111, \"#46039f\"], [0.2222222222222222, \"#7201a8\"], [0.3333333333333333, \"#9c179e\"], [0.4444444444444444, \"#bd3786\"], [0.5555555555555556, \"#d8576b\"], [0.6666666666666666, \"#ed7953\"], [0.7777777777777778, \"#fb9f3a\"], [0.8888888888888888, \"#fdca26\"], [1.0, \"#f0f921\"]], \"sequentialminus\": [[0.0, \"#0d0887\"], [0.1111111111111111, \"#46039f\"], [0.2222222222222222, \"#7201a8\"], [0.3333333333333333, \"#9c179e\"], [0.4444444444444444, \"#bd3786\"], [0.5555555555555556, \"#d8576b\"], [0.6666666666666666, \"#ed7953\"], [0.7777777777777778, \"#fb9f3a\"], [0.8888888888888888, \"#fdca26\"], [1.0, \"#f0f921\"]]}, \"colorway\": [\"#636efa\", \"#EF553B\", \"#00cc96\", \"#ab63fa\", \"#FFA15A\", \"#19d3f3\", \"#FF6692\", \"#B6E880\", \"#FF97FF\", \"#FECB52\"], \"font\": {\"color\": \"#2a3f5f\"}, \"geo\": {\"bgcolor\": \"white\", \"lakecolor\": \"white\", \"landcolor\": \"#E5ECF6\", \"showlakes\": true, \"showland\": true, \"subunitcolor\": \"white\"}, \"hoverlabel\": {\"align\": \"left\"}, \"hovermode\": \"closest\", \"mapbox\": {\"style\": \"light\"}, \"paper_bgcolor\": \"white\", \"plot_bgcolor\": \"#E5ECF6\", \"polar\": {\"angularaxis\": {\"gridcolor\": \"white\", \"linecolor\": \"white\", \"ticks\": \"\"}, \"bgcolor\": \"#E5ECF6\", \"radialaxis\": {\"gridcolor\": \"white\", \"linecolor\": \"white\", \"ticks\": \"\"}}, \"scene\": {\"xaxis\": {\"backgroundcolor\": \"#E5ECF6\", \"gridcolor\": \"white\", \"gridwidth\": 2, \"linecolor\": \"white\", \"showbackground\": true, \"ticks\": \"\", \"zerolinecolor\": \"white\"}, \"yaxis\": {\"backgroundcolor\": \"#E5ECF6\", \"gridcolor\": \"white\", \"gridwidth\": 2, \"linecolor\": \"white\", \"showbackground\": true, \"ticks\": \"\", \"zerolinecolor\": \"white\"}, \"zaxis\": {\"backgroundcolor\": \"#E5ECF6\", \"gridcolor\": \"white\", \"gridwidth\": 2, \"linecolor\": \"white\", \"showbackground\": true, \"ticks\": \"\", \"zerolinecolor\": \"white\"}}, \"shapedefaults\": {\"line\": {\"color\": \"#2a3f5f\"}}, \"ternary\": {\"aaxis\": {\"gridcolor\": \"white\", \"linecolor\": \"white\", \"ticks\": \"\"}, \"baxis\": {\"gridcolor\": \"white\", \"linecolor\": \"white\", \"ticks\": \"\"}, \"bgcolor\": \"#E5ECF6\", \"caxis\": {\"gridcolor\": \"white\", \"linecolor\": \"white\", \"ticks\": \"\"}}, \"title\": {\"x\": 0.05}, \"xaxis\": {\"automargin\": true, \"gridcolor\": \"white\", \"linecolor\": \"white\", \"ticks\": \"\", \"title\": {\"standoff\": 15}, \"zerolinecolor\": \"white\", \"zerolinewidth\": 2}, \"yaxis\": {\"automargin\": true, \"gridcolor\": \"white\", \"linecolor\": \"white\", \"ticks\": \"\", \"title\": {\"standoff\": 15}, \"zerolinecolor\": \"white\", \"zerolinewidth\": 2}}}},\n",
       "                        {\"responsive\": true}\n",
       "                    ).then(function(){\n",
       "                            \n",
       "var gd = document.getElementById('36d4be99-67cb-46f2-a55b-88b515528047');\n",
       "var x = new MutationObserver(function (mutations, observer) {{\n",
       "        var display = window.getComputedStyle(gd).display;\n",
       "        if (!display || display === 'none') {{\n",
       "            console.log([gd, 'removed!']);\n",
       "            Plotly.purge(gd);\n",
       "            observer.disconnect();\n",
       "        }}\n",
       "}});\n",
       "\n",
       "// Listen for the removal of the full notebook cells\n",
       "var notebookContainer = gd.closest('#notebook-container');\n",
       "if (notebookContainer) {{\n",
       "    x.observe(notebookContainer, {childList: true});\n",
       "}}\n",
       "\n",
       "// Listen for the clearing of the current output cell\n",
       "var outputEl = gd.closest('.output');\n",
       "if (outputEl) {{\n",
       "    x.observe(outputEl, {childList: true});\n",
       "}}\n",
       "\n",
       "                        })\n",
       "                };\n",
       "                });\n",
       "            </script>\n",
       "        </div>"
      ]
     },
     "metadata": {},
     "output_type": "display_data"
    }
   ],
   "source": [
    "from plotly.subplots import make_subplots\n",
    "import plotly.graph_objects as go\n",
    "import plotly.express as px\n",
    "from plotly import tools\n",
    "import os\n",
    "\n",
    "fig = make_subplots(rows=3, cols=1, \n",
    "                    shared_xaxes=True, \n",
    "                    subplot_titles=(\"Positives\",\"Rate\", \"\\u0394 +\"),\n",
    "                    vertical_spacing=0.07)\n",
    "\n",
    "fig.add_trace(go.Scatter(x = df['Dates'], y = df['Positives'], name = 'Total Positives'),row=1, col=1)\n",
    "\n",
    "fig.add_trace(\n",
    "    go.Scatter(x=df['Dates'],y = df['Rate'],\n",
    "    mode='lines',\n",
    "    name='Rate'),\n",
    "    row=2, col=1\n",
    ")\n",
    "\n",
    "fig.add_trace(\n",
    "    go.Scatter(x=df['Dates'], y=df['\\u0394 +'],\n",
    "    mode='markers',\n",
    "    name='\\u0394 +'), row=3, col=1)\n",
    "\n",
    "fig.update_layout(height=700, width=950)\n",
    "fig.update_xaxes(tickangle= 60)\n",
    "fig.write_html(\"_includes/graphs.html\")\n",
    "# fig.show()\n",
    "\n",
    "#####DATAFRAME\n",
    "df = df.iloc[::-1]\n",
    "\n",
    "fig = go.Figure(data=[go.Table(\n",
    "    header=dict(values=list(df.columns),\n",
    "                fill_color='paleturquoise',\n",
    "                align='left'),\n",
    "    cells=dict(values=[df['Dates'], df['Positives'], df['Overall'],df['\\u0394 +'], df['\\u0394 total'],df['Rate']],\n",
    "               fill_color='lavender',\n",
    "               align='left'))\n",
    "])\n",
    "\n",
    "\n",
    "\n",
    "fig.write_html(\"_includes/data.html\")\n",
    "fig.show()\n",
    "\n",
    "\n",
    "\n"
   ]
  },
  {
   "cell_type": "code",
   "execution_count": 68,
   "metadata": {},
   "outputs": [],
   "source": [
    "df.to_csv('out.csv', index=False)  "
   ]
  },
  {
   "cell_type": "code",
   "execution_count": null,
   "metadata": {},
   "outputs": [],
   "source": []
  }
 ],
 "metadata": {
  "kernelspec": {
   "display_name": "Python 3",
   "language": "python",
   "name": "python3"
  },
  "language_info": {
   "codemirror_mode": {
    "name": "ipython",
    "version": 3
   },
   "file_extension": ".py",
   "mimetype": "text/x-python",
   "name": "python",
   "nbconvert_exporter": "python",
   "pygments_lexer": "ipython3",
   "version": "3.7.6"
  }
 },
 "nbformat": 4,
 "nbformat_minor": 4
}
